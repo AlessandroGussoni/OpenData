{
 "cells": [
  {
   "cell_type": "code",
   "execution_count": 5,
   "metadata": {},
   "outputs": [],
   "source": [
    "import requests\n",
    "\n",
    "response = requests.get('https://www.dati.gov.it/opendata/api/3/action/package_list')"
   ]
  },
  {
   "cell_type": "code",
   "execution_count": 7,
   "metadata": {},
   "outputs": [],
   "source": [
    "resp_json = response.json()"
   ]
  },
  {
   "cell_type": "code",
   "execution_count": 11,
   "metadata": {},
   "outputs": [
    {
     "data": {
      "text/plain": [
       "'00-confine-comunale-kml-010536a2'"
      ]
     },
     "execution_count": 11,
     "metadata": {},
     "output_type": "execute_result"
    }
   ],
   "source": [
    "resp_json['result'][1]\n"
   ]
  },
  {
   "cell_type": "code",
   "execution_count": 12,
   "metadata": {},
   "outputs": [],
   "source": [
    "dtf = requests.get(f'https://www.dati.gov.it/opendata/api/3/action/package_show?id={resp_json[\"result\"][1]}')"
   ]
  },
  {
   "cell_type": "code",
   "execution_count": 23,
   "metadata": {},
   "outputs": [
    {
     "name": "stdout",
     "output_type": "stream",
     "text": [
      "{'license_title': 'CC_0_Comune_Anzola', 'maintainer': \"Comune di Anzola dell'Emilia\", 'creator': '[{\"creator_identifier\": \"c_a324\", \"creator_name\": {\"el\": \"Comune di Anzola dell\\'Emilia\", \"en\": \"Comune di Anzola dell\\'Emilia\", \"vi\": \"Comune di Anzola dell\\'Emilia\", \"ca\": \"Comune di Anzola dell\\'Emilia\", \"am\": \"Comune di Anzola dell\\'Emilia\", \"it\": \"Comune di Anzola dell\\'Emilia\", \"uk_UA\": \"Comune di Anzola dell\\'Emilia\", \"zh_Hant_TW\": \"Comune di Anzola dell\\'Emilia\", \"ar\": \"Comune di Anzola dell\\'Emilia\", \"mk\": \"Comune di Anzola dell\\'Emilia\", \"eu\": \"Comune di Anzola dell\\'Emilia\", \"gl\": \"Comune di Anzola dell\\'Emilia\", \"id\": \"Comune di Anzola dell\\'Emilia\", \"es\": \"Comune di Anzola dell\\'Emilia\", \"ru\": \"Comune di Anzola dell\\'Emilia\", \"nl\": \"Comune di Anzola dell\\'Emilia\", \"no\": \"Comune di Anzola dell\\'Emilia\", \"tr\": \"Comune di Anzola dell\\'Emilia\", \"ne\": \"Comune di Anzola dell\\'Emilia\", \"en_AU\": \"Comune di Anzola dell\\'Emilia\", \"lv\": \"Comune di Anzola dell\\'Emilia\", \"lt\": \"Comune di Anzola dell\\'Emilia\", \"th\": \"Comune di Anzola dell\\'Emilia\", \"es_AR\": \"Comune di Anzola dell\\'Emilia\", \"ro\": \"Comune di Anzola dell\\'Emilia\", \"pt_PT\": \"Comune di Anzola dell\\'Emilia\", \"en_GB\": \"Comune di Anzola dell\\'Emilia\", \"fr\": \"Comune di Anzola dell\\'Emilia\", \"bg\": \"Comune di Anzola dell\\'Emilia\", \"zh_Hans_CN\": \"Comune di Anzola dell\\'Emilia\", \"pt_BR\": \"Comune di Anzola dell\\'Emilia\", \"hr\": \"Comune di Anzola dell\\'Emilia\", \"da_DK\": \"Comune di Anzola dell\\'Emilia\", \"de\": \"Comune di Anzola dell\\'Emilia\", \"cs_CZ\": \"Comune di Anzola dell\\'Emilia\", \"ko_KR\": \"Comune di Anzola dell\\'Emilia\", \"fi\": \"Comune di Anzola dell\\'Emilia\", \"hu\": \"Comune di Anzola dell\\'Emilia\", \"ja\": \"Comune di Anzola dell\\'Emilia\", \"is\": \"Comune di Anzola dell\\'Emilia\", \"he\": \"Comune di Anzola dell\\'Emilia\", \"tl\": \"Comune di Anzola dell\\'Emilia\", \"fa_IR\": \"Comune di Anzola dell\\'Emilia\", \"mn_MN\": \"Comune di Anzola dell\\'Emilia\", \"sr\": \"Comune di Anzola dell\\'Emilia\", \"sq\": \"Comune di Anzola dell\\'Emilia\", \"sv\": \"Comune di Anzola dell\\'Emilia\", \"km\": \"Comune di Anzola dell\\'Emilia\", \"sk\": \"Comune di Anzola dell\\'Emilia\", \"pl\": \"Comune di Anzola dell\\'Emilia\", \"uk\": \"Comune di Anzola dell\\'Emilia\", \"sl\": \"Comune di Anzola dell\\'Emilia\", \"sr_Latn\": \"Comune di Anzola dell\\'Emilia\"}}]', 'issued': '', 'dataset_is_local': False, 'private': False, 'maintainer_email': '', 'num_tags': 2, 'frequency': 'IRREG', 'publisher_name': \"Comune di Anzola dell'Emilia\", 'id': '3a89a14b-3835-4551-8289-bfcb99a8744a', 'metadata_created': '2022-08-30T09:23:03.982426', 'metadata_modified': '2023-02-03T02:06:35.759957', 'author': \"Comune di Anzola dell'Emilia\", 'author_email': '', 'geographical_geonames_url': '', 'theme': '[{\"subthemes\": [], \"theme\": \"REGI\"}]', 'state': 'active', 'version': '', 'relationships_as_object': [], 'license_id': 'CC_0_Comune_Anzola', 'type': 'dataset', 'resources': [{'cache_last_updated': None, 'package_id': '3a89a14b-3835-4551-8289-bfcb99a8744a', 'distribution_format': 'KML', 'datastore_active': False, 'id': 'bbaacc0d-4e2b-4819-b975-5448b74958f5', 'size': None, 'state': 'active', 'hash': '', 'description': \"Comune di Anzola dell'Emilia - WGS 84  EPSG:4326\", 'format': 'KML', 'mimetype_inner': None, 'url_type': None, 'mimetype': None, 'cache_url': None, 'name': '00 - Confine Comunale - Kml', 'created': '2016-05-11T15:22:17.674425', 'url': 'https://dati.emilia-romagna.it/dataset/3a89a14b-3835-4551-8289-bfcb99a8744a/resource/bbaacc0d-4e2b-4819-b975-5448b74958f5/download/t0kml.zip', 'last_modified': '2017-03-30T08:27:27.793979', 'license_type': 'https://w3id.org/italia/controlled-vocabulary/licences/C1_Unknown', 'position': 0, 'revision_id': '6ea5ddab-e676-43f6-baf8-0dba1f4ff5d8', 'resource_type': None}], 'holder_name': \"Comune di Anzola dell'Emilia\", 'tags': [{'vocabulary_id': None, 'state': 'active', 'display_name': 'comune', 'id': 'e9332e95-37f6-4e96-a115-e5e77047a5d7', 'name': 'comune'}, {'vocabulary_id': None, 'state': 'active', 'display_name': 'confine', 'id': '32a66534-535b-46a8-8939-774a56afb3df', 'name': 'confine'}], 'holder_identifier': 'c_a324', 'groups': [{'display_name': 'Regioni e città', 'description': 'Regioni e città', 'image_display_url': '', 'title': 'Regioni e città', 'id': '7882e223-c030-49da-8709-d218ff36d19e', 'name': 'regioni'}], 'creator_user_id': 'fca7bad0-3f6b-47a2-bd31-e79253b54b65', 'relationships_as_subject': [], 'is_version_of': '', 'num_resources': 1, 'organization': {'description': '', 'created': '2022-06-10T10:06:13.370922', 'title': 'Regione Emilia-Romagna', 'name': 'regione-emilia-romagna', 'is_organization': True, 'state': 'active', 'image_url': '', 'revision_id': 'df71e2da-9f2e-4d25-9d73-0a1d9359668e', 'type': 'organization', 'id': '5c311059-446b-475f-8d79-516c5368ecf4', 'approval_status': 'approved'}, 'name': '00-confine-comunale-kml-010536a2', 'isopen': False, 'url': '', 'notes': 'Confine Comunale', 'owner_org': '5c311059-446b-475f-8d79-516c5368ecf4', 'modified': '30-01-2023', 'publisher_identifier': 'c_a324', 'extras': [], 'title': '00 - Confine Comunale - Kml', 'revision_id': '2faaa0b5-678a-476f-8a3d-94b393f87a61', 'identifier': 'c_a324-0000'}\n"
     ]
    }
   ],
   "source": [
    "keys = dtf.json().keys()\n",
    "print(dtf.json()['result'])\n",
    "\n",
    "# import pandas as pd\n",
    "# dtf_r = pd.DataFrame(dtf.json()['result'])"
   ]
  }
 ],
 "metadata": {
  "kernelspec": {
   "display_name": "env_open",
   "language": "python",
   "name": "python3"
  },
  "language_info": {
   "codemirror_mode": {
    "name": "ipython",
    "version": 3
   },
   "file_extension": ".py",
   "mimetype": "text/x-python",
   "name": "python",
   "nbconvert_exporter": "python",
   "pygments_lexer": "ipython3",
   "version": "3.9.13"
  },
  "orig_nbformat": 4
 },
 "nbformat": 4,
 "nbformat_minor": 2
}
